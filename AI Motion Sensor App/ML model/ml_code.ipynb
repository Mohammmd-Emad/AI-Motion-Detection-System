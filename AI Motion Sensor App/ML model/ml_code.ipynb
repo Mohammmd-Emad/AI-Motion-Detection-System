{
 "cells": [
  {
   "cell_type": "markdown",
   "id": "169b17b9",
   "metadata": {},
   "source": [
    "# Human Activity Recognition - Machine Learning Model\n",
    "### This notebook implements a machine learning pipeline for classifying human activities based on sensor data features. We use a Random Forest classifier to distinguish between four activities: lying, sitting, standing, and walking.\n",
    "\n",
    "### Overview, The pipeline consists of:\n",
    "\n",
    "1. Loading preprocessed feature data\n",
    "\n",
    "2. Encoding categorical labels\n",
    "\n",
    "3. Splitting data into training and testing sets\n",
    "\n",
    "4. Training a Random Forest classifier\n",
    "\n",
    "5. Evaluating model performance\n",
    "\n",
    "6. Training on the full dataset for deployment\n",
    "\n",
    "7. Saving the trained model for deployment"
   ]
  },
  {
   "cell_type": "markdown",
   "id": "4eb06fa8",
   "metadata": {},
   "source": [
    "## Import Libraries"
   ]
  },
  {
   "cell_type": "code",
   "execution_count": 7,
   "id": "ea39f103",
   "metadata": {},
   "outputs": [],
   "source": [
    "import pandas as pd\n",
    "from sklearn.model_selection import train_test_split\n",
    "from sklearn.preprocessing import LabelEncoder\n",
    "from sklearn.ensemble import RandomForestClassifier\n",
    "from sklearn.metrics import classification_report, accuracy_score"
   ]
  },
  {
   "cell_type": "markdown",
   "id": "6bfd6075",
   "metadata": {},
   "source": [
    "## Load Data and Prepare for Training"
   ]
  },
  {
   "cell_type": "code",
   "execution_count": 8,
   "id": "cb287c9f",
   "metadata": {},
   "outputs": [
    {
     "name": "stdout",
     "output_type": "stream",
     "text": [
      "Train shape: (2677, 30) Test shape: (670, 30)\n"
     ]
    }
   ],
   "source": [
    "\n",
    "# Load feature dataset\n",
    "features_df = pd.read_csv(\"C:\\\\Users\\\\Dell\\\\Desktop\\\\AI Motion Sensor App\\\\Data\\\\full_data\\\\features.csv\")\n",
    "\n",
    "# Split into X (features) and y (labels)\n",
    "X = features_df.drop(columns=[\"activity\"])\n",
    "y = features_df[\"activity\"]\n",
    "\n",
    "# Encode activity labels into numbers\n",
    "le = LabelEncoder()\n",
    "y_encoded = le.fit_transform(y)\n",
    "\n",
    "# Train-test split\n",
    "X_train, X_test, y_train, y_test = train_test_split(\n",
    "    X, y_encoded, test_size=0.2, random_state=42, stratify=y_encoded\n",
    ")\n",
    "\n",
    "print(\"Train shape:\", X_train.shape, \"Test shape:\", X_test.shape)\n"
   ]
  },
  {
   "cell_type": "markdown",
   "id": "f29875fb",
   "metadata": {},
   "source": [
    "## Train Random Forest Classifier"
   ]
  },
  {
   "cell_type": "code",
   "execution_count": 9,
   "id": "37fc9c63",
   "metadata": {},
   "outputs": [
    {
     "name": "stdout",
     "output_type": "stream",
     "text": [
      "Accuracy: 0.9970149253731343\n",
      "              precision    recall  f1-score   support\n",
      "\n",
      "       lying       1.00      1.00      1.00       178\n",
      "     sitting       1.00      0.99      1.00       176\n",
      "    standing       1.00      0.99      1.00       178\n",
      "     walking       0.99      1.00      0.99       138\n",
      "\n",
      "    accuracy                           1.00       670\n",
      "   macro avg       1.00      1.00      1.00       670\n",
      "weighted avg       1.00      1.00      1.00       670\n",
      "\n"
     ]
    }
   ],
   "source": [
    "\n",
    "# Train RandomForest\n",
    "rf = RandomForestClassifier(n_estimators=200, random_state=42)\n",
    "rf.fit(X_train, y_train)\n",
    "\n",
    "# Predictions\n",
    "y_pred = rf.predict(X_test)\n",
    "\n",
    "# Evaluation\n",
    "print(\"Accuracy:\", accuracy_score(y_test, y_pred))\n",
    "print(classification_report(y_test, y_pred, target_names=le.classes_))\n"
   ]
  },
  {
   "cell_type": "markdown",
   "id": "bcb140db",
   "metadata": {},
   "source": [
    "## Train Model on Full Dataset"
   ]
  },
  {
   "cell_type": "code",
   "execution_count": 10,
   "id": "997c71ff",
   "metadata": {},
   "outputs": [
    {
     "name": "stdout",
     "output_type": "stream",
     "text": [
      "Training final model on entire dataset...\n",
      "Full dataset shape: (3347, 30)\n",
      "Final model trained on full dataset with 3347 samples\n",
      "Training accuracy on full dataset: 1.0000\n",
      "\n",
      "Class distribution in full dataset:\n",
      "activity\n",
      "lying       889\n",
      "standing    889\n",
      "sitting     880\n",
      "walking     689\n",
      "Name: count, dtype: int64\n"
     ]
    }
   ],
   "source": [
    "# Train a new model on the entire dataset for deployment\n",
    "# This ensures the model learns from all available data\n",
    "\n",
    "print(\"Training final model on entire dataset...\")\n",
    "print(\"Full dataset shape:\", X.shape)\n",
    "\n",
    "# Initialize a new Random Forest classifier\n",
    "final_model = RandomForestClassifier(n_estimators=200, random_state=42)\n",
    "\n",
    "# Train on the complete dataset\n",
    "final_model.fit(X, y_encoded)\n",
    "\n",
    "# Verify performance on the full dataset (this will be optimistic)\n",
    "full_predictions = final_model.predict(X)\n",
    "full_accuracy = accuracy_score(y_encoded, full_predictions)\n",
    "\n",
    "print(f\"Final model trained on full dataset with {X.shape[0]} samples\")\n",
    "print(f\"Training accuracy on full dataset: {full_accuracy:.4f}\")\n",
    "\n",
    "# Quick check to ensure all classes are properly learned\n",
    "print(\"\\nClass distribution in full dataset:\")\n",
    "print(pd.Series(y).value_counts())"
   ]
  },
  {
   "cell_type": "markdown",
   "id": "43202ec2",
   "metadata": {},
   "source": [
    "## Save Trained Model for Deployment"
   ]
  },
  {
   "cell_type": "code",
   "execution_count": 11,
   "id": "6c541c78",
   "metadata": {},
   "outputs": [
    {
     "name": "stdout",
     "output_type": "stream",
     "text": [
      "Final model and label encoder saved successfully!\n"
     ]
    }
   ],
   "source": [
    "import joblib\n",
    "\n",
    "joblib.dump(final_model, \"models\\\\activity_final_model.pkl\")\n",
    "joblib.dump(le, \"models\\\\label_encoder.pkl\")\n",
    "\n",
    "print(\"Final model and label encoder saved successfully!\")"
   ]
  },
  {
   "cell_type": "markdown",
   "id": "6eb5ba0b",
   "metadata": {},
   "source": [
    "## Model Performance Summary\n",
    "\n",
    "* Test Accuracy: 99.7% - Excellent performance on the test set\n",
    "\n",
    "* Precision: 99-100% for all classes - Very few false positives\n",
    "\n",
    "* Recall: 99-100% for all classes - Very few false negatives\n",
    "\n",
    "* F1-score: 99-100% for all classes - Balanced performance across metrics\n",
    "\n",
    "* Full Dataset Training: Model trained on all available data for optimal deployment performance\n",
    "\n",
    "### The model demonstrates exceptional performance in classifying all four activities, making it suitable for real-world deployment in the motion sensor application. The final model trained on the complete dataset will provide the best generalization for new, unseen data."
   ]
  }
 ],
 "metadata": {
  "kernelspec": {
   "display_name": "Python 3",
   "language": "python",
   "name": "python3"
  },
  "language_info": {
   "codemirror_mode": {
    "name": "ipython",
    "version": 3
   },
   "file_extension": ".py",
   "mimetype": "text/x-python",
   "name": "python",
   "nbconvert_exporter": "python",
   "pygments_lexer": "ipython3",
   "version": "3.12.6"
  }
 },
 "nbformat": 4,
 "nbformat_minor": 5
}
